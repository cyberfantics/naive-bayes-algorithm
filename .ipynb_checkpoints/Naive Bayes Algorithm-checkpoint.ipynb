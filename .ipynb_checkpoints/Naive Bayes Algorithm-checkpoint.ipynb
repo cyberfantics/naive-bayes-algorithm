{
 "cells": [
  {
   "cell_type": "markdown",
   "id": "6f4ec5a4-187b-4df3-b12a-c221add28e6c",
   "metadata": {},
   "source": [
    "### Import Libraries"
   ]
  },
  {
   "cell_type": "code",
   "execution_count": 1,
   "id": "675477d2-5885-4b74-a884-bc5d898db033",
   "metadata": {},
   "outputs": [],
   "source": [
    "import pandas as pd\n",
    "import numpy as np"
   ]
  },
  {
   "cell_type": "code",
   "execution_count": null,
   "id": "66eb6f09-76f0-4506-bf00-1699a3763cc8",
   "metadata": {},
   "outputs": [],
   "source": []
  },
  {
   "cell_type": "markdown",
   "id": "8874e8d3-e2fc-4cf6-921f-4e109fe16900",
   "metadata": {},
   "source": [
    "### Load dataset"
   ]
  },
  {
   "cell_type": "code",
   "execution_count": 2,
   "id": "3116cbe8-7f50-4a13-b040-8239476a3a2e",
   "metadata": {},
   "outputs": [],
   "source": [
    "df = pd.read_csv('dataset/dataset.csv')"
   ]
  },
  {
   "cell_type": "code",
   "execution_count": 3,
   "id": "c00b96c2-4fc3-4256-a054-150e35751249",
   "metadata": {},
   "outputs": [
    {
     "data": {
      "text/html": [
       "<div>\n",
       "<style scoped>\n",
       "    .dataframe tbody tr th:only-of-type {\n",
       "        vertical-align: middle;\n",
       "    }\n",
       "\n",
       "    .dataframe tbody tr th {\n",
       "        vertical-align: top;\n",
       "    }\n",
       "\n",
       "    .dataframe thead th {\n",
       "        text-align: right;\n",
       "    }\n",
       "</style>\n",
       "<table border=\"1\" class=\"dataframe\">\n",
       "  <thead>\n",
       "    <tr style=\"text-align: right;\">\n",
       "      <th></th>\n",
       "      <th>Outlook</th>\n",
       "      <th>Temp</th>\n",
       "      <th>Hum</th>\n",
       "      <th>Wind</th>\n",
       "      <th>Play Tennis</th>\n",
       "    </tr>\n",
       "  </thead>\n",
       "  <tbody>\n",
       "    <tr>\n",
       "      <th>0</th>\n",
       "      <td>Sunny</td>\n",
       "      <td>Hot</td>\n",
       "      <td>High</td>\n",
       "      <td>Weak</td>\n",
       "      <td>No</td>\n",
       "    </tr>\n",
       "    <tr>\n",
       "      <th>1</th>\n",
       "      <td>Sunny</td>\n",
       "      <td>Hot</td>\n",
       "      <td>High</td>\n",
       "      <td>Strong</td>\n",
       "      <td>No</td>\n",
       "    </tr>\n",
       "    <tr>\n",
       "      <th>2</th>\n",
       "      <td>Overcast</td>\n",
       "      <td>Hot</td>\n",
       "      <td>High</td>\n",
       "      <td>Weak</td>\n",
       "      <td>Yes</td>\n",
       "    </tr>\n",
       "    <tr>\n",
       "      <th>3</th>\n",
       "      <td>Rain</td>\n",
       "      <td>Mild</td>\n",
       "      <td>High</td>\n",
       "      <td>Weak</td>\n",
       "      <td>Yes</td>\n",
       "    </tr>\n",
       "    <tr>\n",
       "      <th>4</th>\n",
       "      <td>Rain</td>\n",
       "      <td>Cool</td>\n",
       "      <td>Normal</td>\n",
       "      <td>Weak</td>\n",
       "      <td>Yes</td>\n",
       "    </tr>\n",
       "  </tbody>\n",
       "</table>\n",
       "</div>"
      ],
      "text/plain": [
       "    Outlook   Temp     Hum    Wind Play Tennis\n",
       "0     Sunny    Hot    High    Weak          No\n",
       "1     Sunny    Hot    High  Strong          No\n",
       "2  Overcast    Hot    High    Weak         Yes\n",
       "3      Rain   Mild    High    Weak         Yes\n",
       "4      Rain   Cool  Normal    Weak         Yes"
      ]
     },
     "execution_count": 3,
     "metadata": {},
     "output_type": "execute_result"
    }
   ],
   "source": [
    "df.head()"
   ]
  },
  {
   "cell_type": "code",
   "execution_count": 4,
   "id": "ea5c7c11-1506-4d93-8e7e-6e41e3ef225f",
   "metadata": {},
   "outputs": [
    {
     "data": {
      "text/plain": [
       "(31, 5)"
      ]
     },
     "execution_count": 4,
     "metadata": {},
     "output_type": "execute_result"
    }
   ],
   "source": [
    "df.shape"
   ]
  },
  {
   "cell_type": "code",
   "execution_count": null,
   "id": "61289e72-20eb-46b8-9ebc-4734236ae1dd",
   "metadata": {},
   "outputs": [],
   "source": []
  },
  {
   "cell_type": "markdown",
   "id": "ae0ea173-7a6b-40fe-a1ec-2537e7b24932",
   "metadata": {},
   "source": [
    "### Split dataset into X and Y"
   ]
  },
  {
   "cell_type": "code",
   "execution_count": 5,
   "id": "8bfb7d21-4122-433f-8840-ef846604f857",
   "metadata": {},
   "outputs": [],
   "source": [
    "X = df.drop(columns='Play Tennis')\n",
    "y = df['Play Tennis']"
   ]
  },
  {
   "cell_type": "code",
   "execution_count": 6,
   "id": "b856c66c-6534-403e-9730-6a7a7da94b97",
   "metadata": {},
   "outputs": [
    {
     "data": {
      "text/html": [
       "<div>\n",
       "<style scoped>\n",
       "    .dataframe tbody tr th:only-of-type {\n",
       "        vertical-align: middle;\n",
       "    }\n",
       "\n",
       "    .dataframe tbody tr th {\n",
       "        vertical-align: top;\n",
       "    }\n",
       "\n",
       "    .dataframe thead th {\n",
       "        text-align: right;\n",
       "    }\n",
       "</style>\n",
       "<table border=\"1\" class=\"dataframe\">\n",
       "  <thead>\n",
       "    <tr style=\"text-align: right;\">\n",
       "      <th></th>\n",
       "      <th>Outlook</th>\n",
       "      <th>Temp</th>\n",
       "      <th>Hum</th>\n",
       "      <th>Wind</th>\n",
       "    </tr>\n",
       "  </thead>\n",
       "  <tbody>\n",
       "    <tr>\n",
       "      <th>0</th>\n",
       "      <td>Sunny</td>\n",
       "      <td>Hot</td>\n",
       "      <td>High</td>\n",
       "      <td>Weak</td>\n",
       "    </tr>\n",
       "    <tr>\n",
       "      <th>1</th>\n",
       "      <td>Sunny</td>\n",
       "      <td>Hot</td>\n",
       "      <td>High</td>\n",
       "      <td>Strong</td>\n",
       "    </tr>\n",
       "    <tr>\n",
       "      <th>2</th>\n",
       "      <td>Overcast</td>\n",
       "      <td>Hot</td>\n",
       "      <td>High</td>\n",
       "      <td>Weak</td>\n",
       "    </tr>\n",
       "    <tr>\n",
       "      <th>3</th>\n",
       "      <td>Rain</td>\n",
       "      <td>Mild</td>\n",
       "      <td>High</td>\n",
       "      <td>Weak</td>\n",
       "    </tr>\n",
       "    <tr>\n",
       "      <th>4</th>\n",
       "      <td>Rain</td>\n",
       "      <td>Cool</td>\n",
       "      <td>Normal</td>\n",
       "      <td>Weak</td>\n",
       "    </tr>\n",
       "  </tbody>\n",
       "</table>\n",
       "</div>"
      ],
      "text/plain": [
       "    Outlook   Temp     Hum    Wind\n",
       "0     Sunny    Hot    High    Weak\n",
       "1     Sunny    Hot    High  Strong\n",
       "2  Overcast    Hot    High    Weak\n",
       "3      Rain   Mild    High    Weak\n",
       "4      Rain   Cool  Normal    Weak"
      ]
     },
     "execution_count": 6,
     "metadata": {},
     "output_type": "execute_result"
    }
   ],
   "source": [
    "X.head()"
   ]
  },
  {
   "cell_type": "code",
   "execution_count": 7,
   "id": "f72f802a-5441-4cb9-b730-444dfa33057d",
   "metadata": {},
   "outputs": [
    {
     "data": {
      "text/plain": [
       "0     No\n",
       "1     No\n",
       "2    Yes\n",
       "3    Yes\n",
       "4    Yes\n",
       "Name: Play Tennis, dtype: object"
      ]
     },
     "execution_count": 7,
     "metadata": {},
     "output_type": "execute_result"
    }
   ],
   "source": [
    "y.head()"
   ]
  },
  {
   "cell_type": "code",
   "execution_count": null,
   "id": "950bfea1-9e6b-4de0-98f8-2ae6bc21432d",
   "metadata": {},
   "outputs": [],
   "source": []
  },
  {
   "cell_type": "markdown",
   "id": "13ddb7b9-e765-443e-8c25-442f2f196b90",
   "metadata": {},
   "source": [
    "### Get size of training datasize and its features to train"
   ]
  },
  {
   "cell_type": "code",
   "execution_count": 8,
   "id": "97271591-06e9-424e-935c-7b869dbbbc3e",
   "metadata": {},
   "outputs": [
    {
     "data": {
      "text/plain": [
       "(31, 4)"
      ]
     },
     "execution_count": 8,
     "metadata": {},
     "output_type": "execute_result"
    }
   ],
   "source": [
    "X.shape"
   ]
  },
  {
   "cell_type": "code",
   "execution_count": 9,
   "id": "41f387b8-5e4d-4778-b4c4-c799fedc28fb",
   "metadata": {},
   "outputs": [],
   "source": [
    "train_size = X.shape[0]\n",
    "total_features = X.shape[1]"
   ]
  },
  {
   "cell_type": "code",
   "execution_count": null,
   "id": "a171fb8b-bb94-405a-af08-7c58a54ad19d",
   "metadata": {},
   "outputs": [],
   "source": []
  },
  {
   "cell_type": "markdown",
   "id": "bed3ba9b-5dbc-442e-948a-24a4194252ad",
   "metadata": {},
   "source": [
    "### Define dictionaries for likelihoods, class priors, and prior probabilities of features"
   ]
  },
  {
   "cell_type": "code",
   "execution_count": 10,
   "id": "2f3e65d8-4023-46f1-ae6a-8d06a23443b4",
   "metadata": {},
   "outputs": [],
   "source": [
    "likelihoods = {}\n",
    "class_prior = {}\n",
    "pred_priors = {}"
   ]
  },
  {
   "cell_type": "code",
   "execution_count": null,
   "id": "abbc93dc-b0b2-4a58-811c-f22ccc20f26f",
   "metadata": {},
   "outputs": [],
   "source": []
  },
  {
   "cell_type": "markdown",
   "id": "73f95cea-f7c8-4689-b385-807b02b0df3e",
   "metadata": {},
   "source": [
    "### Get a list of columns in the feature dataset"
   ]
  },
  {
   "cell_type": "code",
   "execution_count": 11,
   "id": "d0925b27-c9b1-4455-ac8e-a439675fc937",
   "metadata": {},
   "outputs": [
    {
     "data": {
      "text/plain": [
       "['Outlook', 'Temp', 'Hum', 'Wind']"
      ]
     },
     "execution_count": 11,
     "metadata": {},
     "output_type": "execute_result"
    }
   ],
   "source": [
    "columns = list(X.columns)\n",
    "columns"
   ]
  },
  {
   "cell_type": "code",
   "execution_count": null,
   "id": "30a223d3-7a96-41d7-bbe4-2eef8112b9e1",
   "metadata": {},
   "outputs": [],
   "source": []
  },
  {
   "cell_type": "markdown",
   "id": "927aac3b-6ecc-4d5c-ae34-210ad302545a",
   "metadata": {},
   "source": [
    "### Initialize the likelihoods and prior probability dictionaries"
   ]
  },
  {
   "cell_type": "code",
   "execution_count": 12,
   "id": "6529713d-8a79-45e1-b61c-b946c545cabe",
   "metadata": {},
   "outputs": [],
   "source": [
    "for column in columns:\n",
    "    likelihoods[column] = {} # Dictionary to hold likelihoods for each feature\n",
    "    pred_priors[column] = {} # Dictionary to hold prior probabilities for each feature value\n",
    "\n",
    "    for col_value in np.unique(X[column]):  # For each unique value in the feature\n",
    "        # Initialize prior count for each feature value\n",
    "        pred_priors[column].update({col_value:0})\n",
    "\n",
    "        for outcome in np.unique(y):  # For each unique outcome in y\n",
    "            # Initialize likelihood count for each value/outcome combination\n",
    "            likelihoods[column].update({col_value+'_'+outcome:0})\n",
    "            # Initialize class prior count for each outcome\n",
    "            class_prior.update({outcome:0})"
   ]
  },
  {
   "cell_type": "code",
   "execution_count": null,
   "id": "950d15b4-7c7d-49d8-94bb-74b48b673c97",
   "metadata": {},
   "outputs": [],
   "source": []
  },
  {
   "cell_type": "markdown",
   "id": "68f15ee3-8796-4e4d-8a77-df36feafb4ad",
   "metadata": {},
   "source": [
    "### Display dictionaries"
   ]
  },
  {
   "cell_type": "code",
   "execution_count": 13,
   "id": "902b9b27-a7ff-49a2-ab7f-68df4b9d50c1",
   "metadata": {},
   "outputs": [
    {
     "data": {
      "text/plain": [
       "{'Outlook': {'Overcast_No': 0,\n",
       "  'Overcast_Yes': 0,\n",
       "  'Rain_No': 0,\n",
       "  'Rain_Yes': 0,\n",
       "  'Sunny_No': 0,\n",
       "  'Sunny_Yes': 0},\n",
       " 'Temp': {' Mild_No': 0,\n",
       "  ' Mild_Yes': 0,\n",
       "  'Cool_No': 0,\n",
       "  'Cool_Yes': 0,\n",
       "  'Hot_No': 0,\n",
       "  'Hot_Yes': 0,\n",
       "  'Mild_No': 0,\n",
       "  'Mild_Yes': 0},\n",
       " 'Hum': {'High_No': 0, 'High_Yes': 0, 'Normal_No': 0, 'Normal_Yes': 0},\n",
       " 'Wind': {'Strong_No': 0, 'Strong_Yes': 0, 'Weak_No': 0, 'Weak_Yes': 0}}"
      ]
     },
     "execution_count": 13,
     "metadata": {},
     "output_type": "execute_result"
    }
   ],
   "source": [
    "likelihoods"
   ]
  },
  {
   "cell_type": "code",
   "execution_count": 14,
   "id": "64ea77f8-254c-44c0-b16b-fdd4f0e57e69",
   "metadata": {},
   "outputs": [
    {
     "data": {
      "text/plain": [
       "{'Outlook': {'Overcast': 0, 'Rain': 0, 'Sunny': 0},\n",
       " 'Temp': {' Mild': 0, 'Cool': 0, 'Hot': 0, 'Mild': 0},\n",
       " 'Hum': {'High': 0, 'Normal': 0},\n",
       " 'Wind': {'Strong': 0, 'Weak': 0}}"
      ]
     },
     "execution_count": 14,
     "metadata": {},
     "output_type": "execute_result"
    }
   ],
   "source": [
    "pred_priors"
   ]
  },
  {
   "cell_type": "code",
   "execution_count": 15,
   "id": "30afb28c-4a69-4990-9c0c-97d6934d527b",
   "metadata": {},
   "outputs": [
    {
     "data": {
      "text/plain": [
       "{'No': 0, 'Yes': 0}"
      ]
     },
     "execution_count": 15,
     "metadata": {},
     "output_type": "execute_result"
    }
   ],
   "source": [
    "class_prior"
   ]
  },
  {
   "cell_type": "code",
   "execution_count": null,
   "id": "1bed41cc-4078-407c-8a8f-294d6698646b",
   "metadata": {},
   "outputs": [],
   "source": []
  },
  {
   "cell_type": "markdown",
   "id": "f00ac156-e99e-4ec6-ad37-fd49bb4dafb0",
   "metadata": {},
   "source": [
    "### Calculate prior class probabilities"
   ]
  },
  {
   "cell_type": "code",
   "execution_count": 16,
   "id": "a3d8604b-6766-4cfa-9a6b-36934f1031a7",
   "metadata": {},
   "outputs": [],
   "source": [
    "for val in np.unique(y):\n",
    "    unique_count = sum(val==y) # Count occurrences of the current outcome\n",
    "    class_prior[val] = unique_count # Update the class prior count"
   ]
  },
  {
   "cell_type": "code",
   "execution_count": null,
   "id": "fd2441ea-e545-4ea2-941b-4354e84a389b",
   "metadata": {},
   "outputs": [],
   "source": []
  },
  {
   "cell_type": "markdown",
   "id": "e3e98be9-086a-4203-bd1b-5fa99261305e",
   "metadata": {},
   "source": [
    "### Display class prior probabilities"
   ]
  },
  {
   "cell_type": "code",
   "execution_count": 17,
   "id": "263feef4-3511-4bfa-a422-f61ff12f61d7",
   "metadata": {},
   "outputs": [
    {
     "data": {
      "text/plain": [
       "{'No': 12, 'Yes': 19}"
      ]
     },
     "execution_count": 17,
     "metadata": {},
     "output_type": "execute_result"
    }
   ],
   "source": [
    "class_prior"
   ]
  },
  {
   "cell_type": "code",
   "execution_count": null,
   "id": "9084672a-13bf-46e6-a4b0-cde13c34cc35",
   "metadata": {},
   "outputs": [],
   "source": []
  },
  {
   "cell_type": "markdown",
   "id": "296e3d12-adca-4829-9e42-98104bf4b77f",
   "metadata": {},
   "source": [
    "### Calculate prior probabilities for each feature value"
   ]
  },
  {
   "cell_type": "code",
   "execution_count": 18,
   "id": "c3f7c8bd-7f74-47d2-852a-4c9a28ccf22d",
   "metadata": {},
   "outputs": [],
   "source": [
    "for col in columns:\n",
    "    for val in np.unique(X[col]):  # For each unique value in the feature\n",
    "        unique_count = sum(val == X[col])  # Count occurrences of the feature value\n",
    "        pred_priors[col][val] = unique_count / train_size  # Calculate prior probability"
   ]
  },
  {
   "cell_type": "code",
   "execution_count": 19,
   "id": "4c91383b-8e02-4710-87c7-6c7d9d462be8",
   "metadata": {},
   "outputs": [
    {
     "data": {
      "text/plain": [
       "{'Outlook': {'Overcast': 0.3225806451612903,\n",
       "  'Rain': 0.3225806451612903,\n",
       "  'Sunny': 0.3548387096774194},\n",
       " 'Temp': {' Mild': 0.03225806451612903,\n",
       "  'Cool': 0.3225806451612903,\n",
       "  'Hot': 0.3225806451612903,\n",
       "  'Mild': 0.3225806451612903},\n",
       " 'Hum': {'High': 0.5483870967741935, 'Normal': 0.45161290322580644},\n",
       " 'Wind': {'Strong': 0.45161290322580644, 'Weak': 0.5483870967741935}}"
      ]
     },
     "execution_count": 19,
     "metadata": {},
     "output_type": "execute_result"
    }
   ],
   "source": [
    "pred_priors"
   ]
  },
  {
   "cell_type": "code",
   "execution_count": null,
   "id": "4db0f3fa-cbcc-4c78-ab2b-5fc3dec27da4",
   "metadata": {},
   "outputs": [],
   "source": []
  },
  {
   "cell_type": "code",
   "execution_count": 20,
   "id": "29d9f05b-de9d-4803-b876-953281a55b1b",
   "metadata": {},
   "outputs": [
    {
     "data": {
      "text/plain": [
       "{'Outlook': {'Overcast_No': 0,\n",
       "  'Overcast_Yes': 0,\n",
       "  'Rain_No': 0,\n",
       "  'Rain_Yes': 0,\n",
       "  'Sunny_No': 0,\n",
       "  'Sunny_Yes': 0},\n",
       " 'Temp': {' Mild_No': 0,\n",
       "  ' Mild_Yes': 0,\n",
       "  'Cool_No': 0,\n",
       "  'Cool_Yes': 0,\n",
       "  'Hot_No': 0,\n",
       "  'Hot_Yes': 0,\n",
       "  'Mild_No': 0,\n",
       "  'Mild_Yes': 0},\n",
       " 'Hum': {'High_No': 0, 'High_Yes': 0, 'Normal_No': 0, 'Normal_Yes': 0},\n",
       " 'Wind': {'Strong_No': 0, 'Strong_Yes': 0, 'Weak_No': 0, 'Weak_Yes': 0}}"
      ]
     },
     "execution_count": 20,
     "metadata": {},
     "output_type": "execute_result"
    }
   ],
   "source": [
    "likelihoods"
   ]
  },
  {
   "cell_type": "markdown",
   "id": "b0a599db-e3e2-4a45-9d2e-bbd150e27f02",
   "metadata": {},
   "source": [
    "### Calculate likelihood probabilities for each feature given each outcome"
   ]
  },
  {
   "cell_type": "code",
   "execution_count": 21,
   "id": "b788f50f-90b8-4f78-b8da-39fdca207fd6",
   "metadata": {},
   "outputs": [],
   "source": [
    "for column in columns:\n",
    "    for outcome in np.unique(y):  # For each outcome\n",
    "        outcome_count = sum(outcome == y)  # Count occurrences of the outcome\n",
    "        # Get the feature values where y matches the outcome\n",
    "        feature_likelihood = X[column][y[y == outcome].index.values.tolist()].value_counts().to_dict()\n",
    "        \n",
    "        # Update likelihoods based on feature values\n",
    "        for col_val, count in feature_likelihood.items():\n",
    "            likelihoods[column][col_val + '_' + outcome] = count / outcome_count  # Calculate probability"
   ]
  },
  {
   "cell_type": "code",
   "execution_count": 22,
   "id": "c44bb1ef-0adf-43f3-98d7-6859bbc51041",
   "metadata": {},
   "outputs": [
    {
     "data": {
      "text/plain": [
       "{'Outlook': {'Overcast_No': 0,\n",
       "  'Overcast_Yes': 0.5263157894736842,\n",
       "  'Rain_No': 0.5,\n",
       "  'Rain_Yes': 0.21052631578947367,\n",
       "  'Sunny_No': 0.5,\n",
       "  'Sunny_Yes': 0.2631578947368421},\n",
       " 'Temp': {' Mild_No': 0,\n",
       "  ' Mild_Yes': 0.05263157894736842,\n",
       "  'Cool_No': 0.3333333333333333,\n",
       "  'Cool_Yes': 0.3157894736842105,\n",
       "  'Hot_No': 0.3333333333333333,\n",
       "  'Hot_Yes': 0.3157894736842105,\n",
       "  'Mild_No': 0.3333333333333333,\n",
       "  'Mild_Yes': 0.3157894736842105},\n",
       " 'Hum': {'High_No': 0.8333333333333334,\n",
       "  'High_Yes': 0.3684210526315789,\n",
       "  'Normal_No': 0.16666666666666666,\n",
       "  'Normal_Yes': 0.631578947368421},\n",
       " 'Wind': {'Strong_No': 0.5,\n",
       "  'Strong_Yes': 0.42105263157894735,\n",
       "  'Weak_No': 0.5,\n",
       "  'Weak_Yes': 0.5789473684210527}}"
      ]
     },
     "execution_count": 22,
     "metadata": {},
     "output_type": "execute_result"
    }
   ],
   "source": [
    "likelihoods"
   ]
  },
  {
   "cell_type": "code",
   "execution_count": null,
   "id": "11383fc4-e709-413d-9615-8b915acef094",
   "metadata": {},
   "outputs": [],
   "source": []
  },
  {
   "cell_type": "markdown",
   "id": "959eff33-8315-4f09-9720-1b21135e204c",
   "metadata": {},
   "source": [
    "### Calculate Posterior Probability for a test case"
   ]
  },
  {
   "cell_type": "code",
   "execution_count": 23,
   "id": "c0955933-144b-4a3c-bcea-02580212cb7c",
   "metadata": {},
   "outputs": [],
   "source": [
    "test = ['Sunny', 'Mild', 'Normal', 'Strong']  # New instance for which we want to predict the outcome"
   ]
  },
  {
   "cell_type": "code",
   "execution_count": 24,
   "id": "06379af3-8903-4b96-a32c-55556c67f4ab",
   "metadata": {},
   "outputs": [],
   "source": [
    "results = {} # Dictionary to hold the posterior probabilities for each outcome"
   ]
  },
  {
   "cell_type": "code",
   "execution_count": 25,
   "id": "f67f4488-3321-439c-840c-223b98ea60b7",
   "metadata": {},
   "outputs": [],
   "source": [
    "for outcome in np.unique(y):  # For each outcome\n",
    "    prior = class_prior[outcome]  # Prior probability of the outcome\n",
    "    evidence = 1  # Initialize evidence probability\n",
    "    likelihood = 1  # Initialize likelihood probability\n",
    "    \n",
    "    for col, col_val in zip(columns, test):  # Iterate through the features and their values\n",
    "        likelihood *= likelihoods[col][col_val + '_' + outcome]  # Multiply the likelihood\n",
    "        evidence *= pred_priors[col][col_val]  # Multiply the prior probability for evidence\n",
    "    \n",
    "    # Calculate the posterior probability using Bayes' theorem\n",
    "    posterior = likelihood * prior / evidence\n",
    "    results[outcome] = posterior  # Store the posterior probability"
   ]
  },
  {
   "cell_type": "markdown",
   "id": "67b3cdfe-d714-4520-b9b0-990e8b98521c",
   "metadata": {},
   "source": [
    "### Display results of posterior probabilities"
   ]
  },
  {
   "cell_type": "code",
   "execution_count": 26,
   "id": "4424ee97-05d9-42c7-8cc7-b66acb68a7e1",
   "metadata": {},
   "outputs": [
    {
     "data": {
      "text/plain": [
       "{'No': 7.13915429808287, 'Yes': 17.98579767763114}"
      ]
     },
     "execution_count": 26,
     "metadata": {},
     "output_type": "execute_result"
    }
   ],
   "source": [
    "results"
   ]
  },
  {
   "cell_type": "code",
   "execution_count": 27,
   "id": "62737701-7cf8-4801-8591-c41e17f6f9bc",
   "metadata": {},
   "outputs": [],
   "source": [
    "### Determine the outcome with the highest posterior probability"
   ]
  },
  {
   "cell_type": "code",
   "execution_count": 28,
   "id": "0d4d5c05-12cc-4ba7-83ce-97a6db7eb523",
   "metadata": {},
   "outputs": [],
   "source": [
    "result = max(results, key=lambda x : results[x])"
   ]
  },
  {
   "cell_type": "code",
   "execution_count": 29,
   "id": "a344855b-b29f-4dd5-b25e-b7847eb9e57c",
   "metadata": {},
   "outputs": [
    {
     "data": {
      "text/plain": [
       "'Yes'"
      ]
     },
     "execution_count": 29,
     "metadata": {},
     "output_type": "execute_result"
    }
   ],
   "source": [
    "result"
   ]
  },
  {
   "cell_type": "code",
   "execution_count": null,
   "id": "e66ac134-7ce2-4a06-92a7-7c14c51b1445",
   "metadata": {},
   "outputs": [],
   "source": []
  }
 ],
 "metadata": {
  "kernelspec": {
   "display_name": "Python 3 (ipykernel)",
   "language": "python",
   "name": "python3"
  },
  "language_info": {
   "codemirror_mode": {
    "name": "ipython",
    "version": 3
   },
   "file_extension": ".py",
   "mimetype": "text/x-python",
   "name": "python",
   "nbconvert_exporter": "python",
   "pygments_lexer": "ipython3",
   "version": "3.12.4"
  }
 },
 "nbformat": 4,
 "nbformat_minor": 5
}
